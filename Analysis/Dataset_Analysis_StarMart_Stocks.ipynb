{
 "cells": [
  {
   "cell_type": "code",
   "execution_count": 1,
   "id": "a2eab63a-766f-45f0-80ad-2fe189a6e582",
   "metadata": {},
   "outputs": [
    {
     "name": "stdout",
     "output_type": "stream",
     "text": [
      "C:\\Users\\shrav\\Data_Analysis_Projects\\Big Projects\\Project StarMart\\Datasets\n"
     ]
    }
   ],
   "source": [
    "%cd C:/Users/shrav/Data_Analysis_Projects/Big Projects/Project StarMart/Datasets"
   ]
  },
  {
   "cell_type": "code",
   "execution_count": 2,
   "id": "8071e5be-3ed2-4a40-9941-90f3198b4898",
   "metadata": {},
   "outputs": [],
   "source": [
    "import numpy as np\n",
    "import pandas as pd\n",
    "import seaborn as sns\n",
    "import matplotlib.pyplot as plt"
   ]
  },
  {
   "cell_type": "code",
   "execution_count": 3,
   "id": "febfa69a-fc5a-4d82-9e00-bfbb80ee0345",
   "metadata": {},
   "outputs": [
    {
     "data": {
      "text/html": [
       "<div>\n",
       "<style scoped>\n",
       "    .dataframe tbody tr th:only-of-type {\n",
       "        vertical-align: middle;\n",
       "    }\n",
       "\n",
       "    .dataframe tbody tr th {\n",
       "        vertical-align: top;\n",
       "    }\n",
       "\n",
       "    .dataframe thead th {\n",
       "        text-align: right;\n",
       "    }\n",
       "</style>\n",
       "<table border=\"1\" class=\"dataframe\">\n",
       "  <thead>\n",
       "    <tr style=\"text-align: right;\">\n",
       "      <th></th>\n",
       "      <th>product_id</th>\n",
       "      <th>store_id</th>\n",
       "      <th>normal_day_stock_lookup</th>\n",
       "      <th>holiday_stock_lookup</th>\n",
       "      <th>stock</th>\n",
       "      <th>last_restock_date</th>\n",
       "    </tr>\n",
       "  </thead>\n",
       "  <tbody>\n",
       "    <tr>\n",
       "      <th>0</th>\n",
       "      <td>STRMRT_PRD_01_0001</td>\n",
       "      <td>STRMRT_STR_01</td>\n",
       "      <td>23.0</td>\n",
       "      <td>35.0</td>\n",
       "      <td>35.0</td>\n",
       "      <td>2024-01-01</td>\n",
       "    </tr>\n",
       "    <tr>\n",
       "      <th>1</th>\n",
       "      <td>STRMRT_PRD_01_0002</td>\n",
       "      <td>STRMRT_STR_01</td>\n",
       "      <td>23.0</td>\n",
       "      <td>35.0</td>\n",
       "      <td>35.0</td>\n",
       "      <td>2024-01-01</td>\n",
       "    </tr>\n",
       "    <tr>\n",
       "      <th>2</th>\n",
       "      <td>STRMRT_PRD_01_0003</td>\n",
       "      <td>STRMRT_STR_01</td>\n",
       "      <td>23.0</td>\n",
       "      <td>35.0</td>\n",
       "      <td>35.0</td>\n",
       "      <td>2024-01-01</td>\n",
       "    </tr>\n",
       "    <tr>\n",
       "      <th>3</th>\n",
       "      <td>STRMRT_PRD_01_0004</td>\n",
       "      <td>STRMRT_STR_01</td>\n",
       "      <td>23.0</td>\n",
       "      <td>35.0</td>\n",
       "      <td>35.0</td>\n",
       "      <td>2024-01-01</td>\n",
       "    </tr>\n",
       "    <tr>\n",
       "      <th>4</th>\n",
       "      <td>STRMRT_PRD_01_0005</td>\n",
       "      <td>STRMRT_STR_01</td>\n",
       "      <td>23.0</td>\n",
       "      <td>35.0</td>\n",
       "      <td>35.0</td>\n",
       "      <td>2024-01-01</td>\n",
       "    </tr>\n",
       "  </tbody>\n",
       "</table>\n",
       "</div>"
      ],
      "text/plain": [
       "           product_id       store_id  normal_day_stock_lookup  \\\n",
       "0  STRMRT_PRD_01_0001  STRMRT_STR_01                     23.0   \n",
       "1  STRMRT_PRD_01_0002  STRMRT_STR_01                     23.0   \n",
       "2  STRMRT_PRD_01_0003  STRMRT_STR_01                     23.0   \n",
       "3  STRMRT_PRD_01_0004  STRMRT_STR_01                     23.0   \n",
       "4  STRMRT_PRD_01_0005  STRMRT_STR_01                     23.0   \n",
       "\n",
       "   holiday_stock_lookup  stock last_restock_date  \n",
       "0                  35.0   35.0        2024-01-01  \n",
       "1                  35.0   35.0        2024-01-01  \n",
       "2                  35.0   35.0        2024-01-01  \n",
       "3                  35.0   35.0        2024-01-01  \n",
       "4                  35.0   35.0        2024-01-01  "
      ]
     },
     "execution_count": 3,
     "metadata": {},
     "output_type": "execute_result"
    }
   ],
   "source": [
    "# Customers \n",
    "df = pd.read_csv(\"StarMart_Stocks.csv\")\n",
    "df.head()"
   ]
  },
  {
   "cell_type": "code",
   "execution_count": 4,
   "id": "2c79fc28-a96f-4f33-a991-f70b46133826",
   "metadata": {},
   "outputs": [
    {
     "data": {
      "text/html": [
       "<div>\n",
       "<style scoped>\n",
       "    .dataframe tbody tr th:only-of-type {\n",
       "        vertical-align: middle;\n",
       "    }\n",
       "\n",
       "    .dataframe tbody tr th {\n",
       "        vertical-align: top;\n",
       "    }\n",
       "\n",
       "    .dataframe thead th {\n",
       "        text-align: right;\n",
       "    }\n",
       "</style>\n",
       "<table border=\"1\" class=\"dataframe\">\n",
       "  <thead>\n",
       "    <tr style=\"text-align: right;\">\n",
       "      <th></th>\n",
       "      <th>normal_day_stock_lookup</th>\n",
       "      <th>holiday_stock_lookup</th>\n",
       "      <th>stock</th>\n",
       "    </tr>\n",
       "  </thead>\n",
       "  <tbody>\n",
       "    <tr>\n",
       "      <th>count</th>\n",
       "      <td>87493.00</td>\n",
       "      <td>87493.00</td>\n",
       "      <td>87493.00</td>\n",
       "    </tr>\n",
       "    <tr>\n",
       "      <th>mean</th>\n",
       "      <td>18.52</td>\n",
       "      <td>32.19</td>\n",
       "      <td>32.19</td>\n",
       "    </tr>\n",
       "    <tr>\n",
       "      <th>std</th>\n",
       "      <td>4.25</td>\n",
       "      <td>9.32</td>\n",
       "      <td>9.32</td>\n",
       "    </tr>\n",
       "    <tr>\n",
       "      <th>min</th>\n",
       "      <td>15.00</td>\n",
       "      <td>26.00</td>\n",
       "      <td>26.00</td>\n",
       "    </tr>\n",
       "    <tr>\n",
       "      <th>25%</th>\n",
       "      <td>15.00</td>\n",
       "      <td>26.00</td>\n",
       "      <td>26.00</td>\n",
       "    </tr>\n",
       "    <tr>\n",
       "      <th>50%</th>\n",
       "      <td>17.00</td>\n",
       "      <td>29.00</td>\n",
       "      <td>29.00</td>\n",
       "    </tr>\n",
       "    <tr>\n",
       "      <th>75%</th>\n",
       "      <td>23.00</td>\n",
       "      <td>35.00</td>\n",
       "      <td>35.00</td>\n",
       "    </tr>\n",
       "    <tr>\n",
       "      <th>max</th>\n",
       "      <td>53.00</td>\n",
       "      <td>125.00</td>\n",
       "      <td>125.00</td>\n",
       "    </tr>\n",
       "  </tbody>\n",
       "</table>\n",
       "</div>"
      ],
      "text/plain": [
       "       normal_day_stock_lookup  holiday_stock_lookup     stock\n",
       "count                 87493.00              87493.00  87493.00\n",
       "mean                     18.52                 32.19     32.19\n",
       "std                       4.25                  9.32      9.32\n",
       "min                      15.00                 26.00     26.00\n",
       "25%                      15.00                 26.00     26.00\n",
       "50%                      17.00                 29.00     29.00\n",
       "75%                      23.00                 35.00     35.00\n",
       "max                      53.00                125.00    125.00"
      ]
     },
     "execution_count": 4,
     "metadata": {},
     "output_type": "execute_result"
    }
   ],
   "source": [
    "df.describe().round(2)"
   ]
  },
  {
   "cell_type": "code",
   "execution_count": 5,
   "id": "2677c3e8-05e1-46b6-876f-fb17d6f602d2",
   "metadata": {},
   "outputs": [
    {
     "name": "stdout",
     "output_type": "stream",
     "text": [
      "Column: product_id\n",
      "Length: 18\n",
      "Value: STRMRT_PRD_01_0001\n",
      "----------------------------------------------------------------------\n",
      "Column: store_id\n",
      "Length: 13\n",
      "Value: STRMRT_STR_01\n",
      "----------------------------------------------------------------------\n",
      "Column: last_restock_date\n",
      "Length: 10\n",
      "Value: 2024-01-01\n",
      "----------------------------------------------------------------------\n"
     ]
    }
   ],
   "source": [
    "# character limit for SQL\n",
    "\n",
    "object_cols = df.select_dtypes(include='object')\n",
    "\n",
    "# Find value with max length in each column\n",
    "max_length_values = {\n",
    "    col: object_cols[col].loc[object_cols[col].str.len().idxmax()]\n",
    "    for col in object_cols.columns\n",
    "}\n",
    "\n",
    "# Display results\n",
    "for col, val in max_length_values.items():\n",
    "    print(f\"Column: {col}\\nLength: {len(val)}\\nValue: {val}\\n{'-'*70}\")"
   ]
  }
 ],
 "metadata": {
  "kernelspec": {
   "display_name": "Python 3 (ipykernel)",
   "language": "python",
   "name": "python3"
  },
  "language_info": {
   "codemirror_mode": {
    "name": "ipython",
    "version": 3
   },
   "file_extension": ".py",
   "mimetype": "text/x-python",
   "name": "python",
   "nbconvert_exporter": "python",
   "pygments_lexer": "ipython3",
   "version": "3.12.6"
  }
 },
 "nbformat": 4,
 "nbformat_minor": 5
}
