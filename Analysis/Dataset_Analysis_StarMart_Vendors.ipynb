{
 "cells": [
  {
   "cell_type": "code",
   "execution_count": 1,
   "id": "c5f14849-4784-4341-9715-b75b7161a443",
   "metadata": {},
   "outputs": [
    {
     "name": "stdout",
     "output_type": "stream",
     "text": [
      "C:\\Users\\shrav\\Data_Analysis_Projects\\Big Projects\\Project StarMart\\Datasets\n"
     ]
    }
   ],
   "source": [
    "%cd C:/Users/shrav/Data_Analysis_Projects/Big Projects/Project StarMart/Datasets"
   ]
  },
  {
   "cell_type": "code",
   "execution_count": 2,
   "id": "0355dbe9-7e21-4c95-9ed2-dd58a112643d",
   "metadata": {},
   "outputs": [],
   "source": [
    "import numpy as np\n",
    "import pandas as pd\n",
    "import seaborn as sns\n",
    "import matplotlib.pyplot as plt"
   ]
  },
  {
   "cell_type": "code",
   "execution_count": 3,
   "id": "a3698efc-a744-4c1b-8069-3b61c92ab620",
   "metadata": {},
   "outputs": [
    {
     "data": {
      "text/html": [
       "<div>\n",
       "<style scoped>\n",
       "    .dataframe tbody tr th:only-of-type {\n",
       "        vertical-align: middle;\n",
       "    }\n",
       "\n",
       "    .dataframe tbody tr th {\n",
       "        vertical-align: top;\n",
       "    }\n",
       "\n",
       "    .dataframe thead th {\n",
       "        text-align: right;\n",
       "    }\n",
       "</style>\n",
       "<table border=\"1\" class=\"dataframe\">\n",
       "  <thead>\n",
       "    <tr style=\"text-align: right;\">\n",
       "      <th></th>\n",
       "      <th>vendor_id</th>\n",
       "      <th>vendor_name</th>\n",
       "      <th>delivery_fee</th>\n",
       "      <th>product_id</th>\n",
       "      <th>per_item_cost</th>\n",
       "      <th>vendor_unique_id</th>\n",
       "    </tr>\n",
       "  </thead>\n",
       "  <tbody>\n",
       "    <tr>\n",
       "      <th>0</th>\n",
       "      <td>STRMRT_VNDR_BRD_1</td>\n",
       "      <td>Thomas-Wilkinson</td>\n",
       "      <td>90</td>\n",
       "      <td>STRMRT_PRD_01_0001</td>\n",
       "      <td>3.25</td>\n",
       "      <td>STRMRT_VNDR_1</td>\n",
       "    </tr>\n",
       "    <tr>\n",
       "      <th>1</th>\n",
       "      <td>STRMRT_VNDR_BRD_1</td>\n",
       "      <td>Thomas-Wilkinson</td>\n",
       "      <td>90</td>\n",
       "      <td>STRMRT_PRD_01_0002</td>\n",
       "      <td>5.12</td>\n",
       "      <td>STRMRT_VNDR_2</td>\n",
       "    </tr>\n",
       "    <tr>\n",
       "      <th>2</th>\n",
       "      <td>STRMRT_VNDR_BRD_1</td>\n",
       "      <td>Thomas-Wilkinson</td>\n",
       "      <td>90</td>\n",
       "      <td>STRMRT_PRD_01_0003</td>\n",
       "      <td>4.39</td>\n",
       "      <td>STRMRT_VNDR_3</td>\n",
       "    </tr>\n",
       "    <tr>\n",
       "      <th>3</th>\n",
       "      <td>STRMRT_VNDR_BRD_1</td>\n",
       "      <td>Thomas-Wilkinson</td>\n",
       "      <td>90</td>\n",
       "      <td>STRMRT_PRD_01_0004</td>\n",
       "      <td>3.96</td>\n",
       "      <td>STRMRT_VNDR_4</td>\n",
       "    </tr>\n",
       "    <tr>\n",
       "      <th>4</th>\n",
       "      <td>STRMRT_VNDR_BRD_1</td>\n",
       "      <td>Thomas-Wilkinson</td>\n",
       "      <td>90</td>\n",
       "      <td>STRMRT_PRD_01_0005</td>\n",
       "      <td>3.55</td>\n",
       "      <td>STRMRT_VNDR_5</td>\n",
       "    </tr>\n",
       "  </tbody>\n",
       "</table>\n",
       "</div>"
      ],
      "text/plain": [
       "           vendor_id       vendor_name  delivery_fee          product_id  \\\n",
       "0  STRMRT_VNDR_BRD_1  Thomas-Wilkinson            90  STRMRT_PRD_01_0001   \n",
       "1  STRMRT_VNDR_BRD_1  Thomas-Wilkinson            90  STRMRT_PRD_01_0002   \n",
       "2  STRMRT_VNDR_BRD_1  Thomas-Wilkinson            90  STRMRT_PRD_01_0003   \n",
       "3  STRMRT_VNDR_BRD_1  Thomas-Wilkinson            90  STRMRT_PRD_01_0004   \n",
       "4  STRMRT_VNDR_BRD_1  Thomas-Wilkinson            90  STRMRT_PRD_01_0005   \n",
       "\n",
       "   per_item_cost vendor_unique_id  \n",
       "0           3.25    STRMRT_VNDR_1  \n",
       "1           5.12    STRMRT_VNDR_2  \n",
       "2           4.39    STRMRT_VNDR_3  \n",
       "3           3.96    STRMRT_VNDR_4  \n",
       "4           3.55    STRMRT_VNDR_5  "
      ]
     },
     "execution_count": 3,
     "metadata": {},
     "output_type": "execute_result"
    }
   ],
   "source": [
    "# Customers \n",
    "df = pd.read_csv(\"StarMart_Vendors.csv\")\n",
    "df.head()"
   ]
  },
  {
   "cell_type": "code",
   "execution_count": 4,
   "id": "f1ef7124-8011-467e-b615-4d1f76515dc7",
   "metadata": {},
   "outputs": [
    {
     "data": {
      "text/html": [
       "<div>\n",
       "<style scoped>\n",
       "    .dataframe tbody tr th:only-of-type {\n",
       "        vertical-align: middle;\n",
       "    }\n",
       "\n",
       "    .dataframe tbody tr th {\n",
       "        vertical-align: top;\n",
       "    }\n",
       "\n",
       "    .dataframe thead th {\n",
       "        text-align: right;\n",
       "    }\n",
       "</style>\n",
       "<table border=\"1\" class=\"dataframe\">\n",
       "  <thead>\n",
       "    <tr style=\"text-align: right;\">\n",
       "      <th></th>\n",
       "      <th>delivery_fee</th>\n",
       "      <th>per_item_cost</th>\n",
       "    </tr>\n",
       "  </thead>\n",
       "  <tbody>\n",
       "    <tr>\n",
       "      <th>count</th>\n",
       "      <td>343103.00</td>\n",
       "      <td>343103.00</td>\n",
       "    </tr>\n",
       "    <tr>\n",
       "      <th>mean</th>\n",
       "      <td>74.90</td>\n",
       "      <td>10.76</td>\n",
       "    </tr>\n",
       "    <tr>\n",
       "      <th>std</th>\n",
       "      <td>16.79</td>\n",
       "      <td>12.61</td>\n",
       "    </tr>\n",
       "    <tr>\n",
       "      <th>min</th>\n",
       "      <td>50.00</td>\n",
       "      <td>0.44</td>\n",
       "    </tr>\n",
       "    <tr>\n",
       "      <th>25%</th>\n",
       "      <td>60.00</td>\n",
       "      <td>4.24</td>\n",
       "    </tr>\n",
       "    <tr>\n",
       "      <th>50%</th>\n",
       "      <td>70.00</td>\n",
       "      <td>6.76</td>\n",
       "    </tr>\n",
       "    <tr>\n",
       "      <th>75%</th>\n",
       "      <td>90.00</td>\n",
       "      <td>11.45</td>\n",
       "    </tr>\n",
       "    <tr>\n",
       "      <th>max</th>\n",
       "      <td>100.00</td>\n",
       "      <td>125.87</td>\n",
       "    </tr>\n",
       "  </tbody>\n",
       "</table>\n",
       "</div>"
      ],
      "text/plain": [
       "       delivery_fee  per_item_cost\n",
       "count     343103.00      343103.00\n",
       "mean          74.90          10.76\n",
       "std           16.79          12.61\n",
       "min           50.00           0.44\n",
       "25%           60.00           4.24\n",
       "50%           70.00           6.76\n",
       "75%           90.00          11.45\n",
       "max          100.00         125.87"
      ]
     },
     "execution_count": 4,
     "metadata": {},
     "output_type": "execute_result"
    }
   ],
   "source": [
    "df.describe().round(2)"
   ]
  },
  {
   "cell_type": "code",
   "execution_count": 5,
   "id": "932a2340-f98c-4d3f-9527-b817b5b04318",
   "metadata": {},
   "outputs": [
    {
     "data": {
      "text/html": [
       "<div>\n",
       "<style scoped>\n",
       "    .dataframe tbody tr th:only-of-type {\n",
       "        vertical-align: middle;\n",
       "    }\n",
       "\n",
       "    .dataframe tbody tr th {\n",
       "        vertical-align: top;\n",
       "    }\n",
       "\n",
       "    .dataframe thead th {\n",
       "        text-align: right;\n",
       "    }\n",
       "</style>\n",
       "<table border=\"1\" class=\"dataframe\">\n",
       "  <thead>\n",
       "    <tr style=\"text-align: right;\">\n",
       "      <th></th>\n",
       "      <th>vendor_id</th>\n",
       "      <th>vendor_name</th>\n",
       "      <th>product_id</th>\n",
       "      <th>vendor_unique_id</th>\n",
       "    </tr>\n",
       "  </thead>\n",
       "  <tbody>\n",
       "    <tr>\n",
       "      <th>count</th>\n",
       "      <td>343103</td>\n",
       "      <td>343103</td>\n",
       "      <td>343103</td>\n",
       "      <td>343103</td>\n",
       "    </tr>\n",
       "    <tr>\n",
       "      <th>unique</th>\n",
       "      <td>345</td>\n",
       "      <td>345</td>\n",
       "      <td>87518</td>\n",
       "      <td>343103</td>\n",
       "    </tr>\n",
       "    <tr>\n",
       "      <th>top</th>\n",
       "      <td>STRMRT_VNDR_BRD_1</td>\n",
       "      <td>Thomas-Wilkinson</td>\n",
       "      <td>STRMRT_PRD_01_0001</td>\n",
       "      <td>STRMRT_VNDR_1</td>\n",
       "    </tr>\n",
       "    <tr>\n",
       "      <th>freq</th>\n",
       "      <td>2478</td>\n",
       "      <td>2478</td>\n",
       "      <td>5</td>\n",
       "      <td>1</td>\n",
       "    </tr>\n",
       "  </tbody>\n",
       "</table>\n",
       "</div>"
      ],
      "text/plain": [
       "                vendor_id       vendor_name          product_id  \\\n",
       "count              343103            343103              343103   \n",
       "unique                345               345               87518   \n",
       "top     STRMRT_VNDR_BRD_1  Thomas-Wilkinson  STRMRT_PRD_01_0001   \n",
       "freq                 2478              2478                   5   \n",
       "\n",
       "       vendor_unique_id  \n",
       "count            343103  \n",
       "unique           343103  \n",
       "top       STRMRT_VNDR_1  \n",
       "freq                  1  "
      ]
     },
     "execution_count": 5,
     "metadata": {},
     "output_type": "execute_result"
    }
   ],
   "source": [
    "df.describe(include='object')"
   ]
  },
  {
   "cell_type": "code",
   "execution_count": 6,
   "id": "e994a7f5-55af-40b0-906d-e8f7973ceaab",
   "metadata": {},
   "outputs": [
    {
     "name": "stdout",
     "output_type": "stream",
     "text": [
      "Column: vendor_id\n",
      "Length: 21\n",
      "Value: STRMRT_VNDR_SPRT2_100\n",
      "----------------------------------------------------------------------\n",
      "Column: vendor_name\n",
      "Length: 33\n",
      "Value: Rodriguez, Hernandez and Gonzalez\n",
      "----------------------------------------------------------------------\n",
      "Column: product_id\n",
      "Length: 18\n",
      "Value: STRMRT_PRD_01_0001\n",
      "----------------------------------------------------------------------\n",
      "Column: vendor_unique_id\n",
      "Length: 18\n",
      "Value: STRMRT_VNDR_100000\n",
      "----------------------------------------------------------------------\n"
     ]
    }
   ],
   "source": [
    "# character limit for SQL\n",
    "\n",
    "object_cols = df.select_dtypes(include='object')\n",
    "\n",
    "# Find value with max length in each column\n",
    "max_length_values = {\n",
    "    col: object_cols[col].loc[object_cols[col].str.len().idxmax()]\n",
    "    for col in object_cols.columns\n",
    "}\n",
    "\n",
    "# Display results\n",
    "for col, val in max_length_values.items():\n",
    "    print(f\"Column: {col}\\nLength: {len(val)}\\nValue: {val}\\n{'-'*70}\")"
   ]
  }
 ],
 "metadata": {
  "kernelspec": {
   "display_name": "Python 3 (ipykernel)",
   "language": "python",
   "name": "python3"
  },
  "language_info": {
   "codemirror_mode": {
    "name": "ipython",
    "version": 3
   },
   "file_extension": ".py",
   "mimetype": "text/x-python",
   "name": "python",
   "nbconvert_exporter": "python",
   "pygments_lexer": "ipython3",
   "version": "3.12.6"
  }
 },
 "nbformat": 4,
 "nbformat_minor": 5
}
