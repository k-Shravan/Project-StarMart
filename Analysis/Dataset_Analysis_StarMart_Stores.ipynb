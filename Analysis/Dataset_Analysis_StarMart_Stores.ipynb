{
 "cells": [
  {
   "cell_type": "code",
   "execution_count": 1,
   "id": "a534988e-eee0-4ed3-bb68-81e3d98679a9",
   "metadata": {},
   "outputs": [
    {
     "name": "stdout",
     "output_type": "stream",
     "text": [
      "C:\\Users\\shrav\\Data_Analysis_Projects\\Big Projects\\Project StarMart\\Datasets\n"
     ]
    }
   ],
   "source": [
    "%cd C:/Users/shrav/Data_Analysis_Projects/Big Projects/Project StarMart/Datasets"
   ]
  },
  {
   "cell_type": "code",
   "execution_count": 2,
   "id": "282520fe-7725-4a51-b0d3-dd137fa043af",
   "metadata": {},
   "outputs": [],
   "source": [
    "import numpy as np\n",
    "import pandas as pd\n",
    "import seaborn as sns\n",
    "import matplotlib.pyplot as plt"
   ]
  },
  {
   "cell_type": "code",
   "execution_count": 3,
   "id": "cba2c311-ee18-4e51-b3aa-af91713808ad",
   "metadata": {},
   "outputs": [
    {
     "data": {
      "text/html": [
       "<div>\n",
       "<style scoped>\n",
       "    .dataframe tbody tr th:only-of-type {\n",
       "        vertical-align: middle;\n",
       "    }\n",
       "\n",
       "    .dataframe tbody tr th {\n",
       "        vertical-align: top;\n",
       "    }\n",
       "\n",
       "    .dataframe thead th {\n",
       "        text-align: right;\n",
       "    }\n",
       "</style>\n",
       "<table border=\"1\" class=\"dataframe\">\n",
       "  <thead>\n",
       "    <tr style=\"text-align: right;\">\n",
       "      <th></th>\n",
       "      <th>store_id</th>\n",
       "      <th>region</th>\n",
       "      <th>neighbourhood</th>\n",
       "      <th>pop_density</th>\n",
       "      <th>store_size</th>\n",
       "      <th>parking_space</th>\n",
       "    </tr>\n",
       "  </thead>\n",
       "  <tbody>\n",
       "    <tr>\n",
       "      <th>0</th>\n",
       "      <td>STRMRT_STR_01</td>\n",
       "      <td>North</td>\n",
       "      <td>Lincoln Park</td>\n",
       "      <td>19000</td>\n",
       "      <td>Large</td>\n",
       "      <td>Limited</td>\n",
       "    </tr>\n",
       "    <tr>\n",
       "      <th>1</th>\n",
       "      <td>STRMRT_STR_02</td>\n",
       "      <td>North</td>\n",
       "      <td>Lakeview</td>\n",
       "      <td>17500</td>\n",
       "      <td>Large</td>\n",
       "      <td>Limited</td>\n",
       "    </tr>\n",
       "    <tr>\n",
       "      <th>2</th>\n",
       "      <td>STRMRT_STR_03</td>\n",
       "      <td>North</td>\n",
       "      <td>Uptown</td>\n",
       "      <td>16000</td>\n",
       "      <td>Medium</td>\n",
       "      <td>Moderate</td>\n",
       "    </tr>\n",
       "    <tr>\n",
       "      <th>3</th>\n",
       "      <td>STRMRT_STR_04</td>\n",
       "      <td>North</td>\n",
       "      <td>Edgewater</td>\n",
       "      <td>14500</td>\n",
       "      <td>Medium</td>\n",
       "      <td>Moderate</td>\n",
       "    </tr>\n",
       "    <tr>\n",
       "      <th>4</th>\n",
       "      <td>STRMRT_STR_05</td>\n",
       "      <td>North</td>\n",
       "      <td>Rogers Park</td>\n",
       "      <td>13500</td>\n",
       "      <td>Medium</td>\n",
       "      <td>Moderate</td>\n",
       "    </tr>\n",
       "  </tbody>\n",
       "</table>\n",
       "</div>"
      ],
      "text/plain": [
       "        store_id region neighbourhood  pop_density store_size parking_space\n",
       "0  STRMRT_STR_01  North  Lincoln Park        19000      Large       Limited\n",
       "1  STRMRT_STR_02  North      Lakeview        17500      Large       Limited\n",
       "2  STRMRT_STR_03  North        Uptown        16000     Medium      Moderate\n",
       "3  STRMRT_STR_04  North     Edgewater        14500     Medium      Moderate\n",
       "4  STRMRT_STR_05  North   Rogers Park        13500     Medium      Moderate"
      ]
     },
     "execution_count": 3,
     "metadata": {},
     "output_type": "execute_result"
    }
   ],
   "source": [
    "# Employees \n",
    "df = pd.read_csv(\"StarMart_Stores.csv\")\n",
    "df.head()"
   ]
  },
  {
   "cell_type": "code",
   "execution_count": 4,
   "id": "6de3c3b4-17b3-462e-903c-ca7669ff48e7",
   "metadata": {},
   "outputs": [
    {
     "data": {
      "text/html": [
       "<div>\n",
       "<style scoped>\n",
       "    .dataframe tbody tr th:only-of-type {\n",
       "        vertical-align: middle;\n",
       "    }\n",
       "\n",
       "    .dataframe tbody tr th {\n",
       "        vertical-align: top;\n",
       "    }\n",
       "\n",
       "    .dataframe thead th {\n",
       "        text-align: right;\n",
       "    }\n",
       "</style>\n",
       "<table border=\"1\" class=\"dataframe\">\n",
       "  <thead>\n",
       "    <tr style=\"text-align: right;\">\n",
       "      <th></th>\n",
       "      <th>pop_density</th>\n",
       "    </tr>\n",
       "  </thead>\n",
       "  <tbody>\n",
       "    <tr>\n",
       "      <th>count</th>\n",
       "      <td>25.00</td>\n",
       "    </tr>\n",
       "    <tr>\n",
       "      <th>mean</th>\n",
       "      <td>14300.00</td>\n",
       "    </tr>\n",
       "    <tr>\n",
       "      <th>std</th>\n",
       "      <td>4409.55</td>\n",
       "    </tr>\n",
       "    <tr>\n",
       "      <th>min</th>\n",
       "      <td>8200.00</td>\n",
       "    </tr>\n",
       "    <tr>\n",
       "      <th>25%</th>\n",
       "      <td>11500.00</td>\n",
       "    </tr>\n",
       "    <tr>\n",
       "      <th>50%</th>\n",
       "      <td>13500.00</td>\n",
       "    </tr>\n",
       "    <tr>\n",
       "      <th>75%</th>\n",
       "      <td>16000.00</td>\n",
       "    </tr>\n",
       "    <tr>\n",
       "      <th>max</th>\n",
       "      <td>26000.00</td>\n",
       "    </tr>\n",
       "  </tbody>\n",
       "</table>\n",
       "</div>"
      ],
      "text/plain": [
       "       pop_density\n",
       "count        25.00\n",
       "mean      14300.00\n",
       "std        4409.55\n",
       "min        8200.00\n",
       "25%       11500.00\n",
       "50%       13500.00\n",
       "75%       16000.00\n",
       "max       26000.00"
      ]
     },
     "execution_count": 4,
     "metadata": {},
     "output_type": "execute_result"
    }
   ],
   "source": [
    "df.describe().round(2)"
   ]
  },
  {
   "cell_type": "code",
   "execution_count": 5,
   "id": "44b681b1-49f4-4b8a-8425-416a12c52f47",
   "metadata": {},
   "outputs": [
    {
     "data": {
      "text/html": [
       "<div>\n",
       "<style scoped>\n",
       "    .dataframe tbody tr th:only-of-type {\n",
       "        vertical-align: middle;\n",
       "    }\n",
       "\n",
       "    .dataframe tbody tr th {\n",
       "        vertical-align: top;\n",
       "    }\n",
       "\n",
       "    .dataframe thead th {\n",
       "        text-align: right;\n",
       "    }\n",
       "</style>\n",
       "<table border=\"1\" class=\"dataframe\">\n",
       "  <thead>\n",
       "    <tr style=\"text-align: right;\">\n",
       "      <th></th>\n",
       "      <th>store_id</th>\n",
       "      <th>region</th>\n",
       "      <th>neighbourhood</th>\n",
       "      <th>store_size</th>\n",
       "      <th>parking_space</th>\n",
       "    </tr>\n",
       "  </thead>\n",
       "  <tbody>\n",
       "    <tr>\n",
       "      <th>count</th>\n",
       "      <td>25</td>\n",
       "      <td>25</td>\n",
       "      <td>25</td>\n",
       "      <td>25</td>\n",
       "      <td>25</td>\n",
       "    </tr>\n",
       "    <tr>\n",
       "      <th>unique</th>\n",
       "      <td>25</td>\n",
       "      <td>3</td>\n",
       "      <td>25</td>\n",
       "      <td>3</td>\n",
       "      <td>5</td>\n",
       "    </tr>\n",
       "    <tr>\n",
       "      <th>top</th>\n",
       "      <td>STRMRT_STR_01</td>\n",
       "      <td>North</td>\n",
       "      <td>Lincoln Park</td>\n",
       "      <td>Medium</td>\n",
       "      <td>Adequate</td>\n",
       "    </tr>\n",
       "    <tr>\n",
       "      <th>freq</th>\n",
       "      <td>1</td>\n",
       "      <td>9</td>\n",
       "      <td>1</td>\n",
       "      <td>10</td>\n",
       "      <td>9</td>\n",
       "    </tr>\n",
       "  </tbody>\n",
       "</table>\n",
       "</div>"
      ],
      "text/plain": [
       "             store_id region neighbourhood store_size parking_space\n",
       "count              25     25            25         25            25\n",
       "unique             25      3            25          3             5\n",
       "top     STRMRT_STR_01  North  Lincoln Park     Medium      Adequate\n",
       "freq                1      9             1         10             9"
      ]
     },
     "execution_count": 5,
     "metadata": {},
     "output_type": "execute_result"
    }
   ],
   "source": [
    "df.describe(include='object')"
   ]
  },
  {
   "cell_type": "markdown",
   "id": "286c2210-67cb-43f8-b3b1-af14b249bd26",
   "metadata": {},
   "source": [
    "# Stores Per Region"
   ]
  },
  {
   "cell_type": "code",
   "execution_count": 6,
   "id": "0aa3dd62-1ed7-498b-b338-0b7f14b35be3",
   "metadata": {},
   "outputs": [
    {
     "data": {
      "image/png": "[encoded data removed]",
      "text/plain": [
       "<Figure size 800x600 with 1 Axes>"
      ]
     },
     "metadata": {},
     "output_type": "display_data"
    }
   ],
   "source": [
    "plt.figure(figsize=(8, 6))\n",
    "sns.countplot(data=df, x='region', order=df[\"region\"].value_counts().index, palette=\"viridis\", hue='region')\n",
    "plt.title(\"Stores Per Region\", fontsize=16, weight='bold')\n",
    "plt.xlabel(\"Region\", fontsize=14)\n",
    "plt.ylabel(\"Number of Stores\", fontsize=14)\n",
    "plt.tight_layout()\n",
    "plt.show()"
   ]
  },
  {
   "cell_type": "code",
   "execution_count": 7,
   "id": "0d897a32-a073-439d-b5ae-e4c190cedcdd",
   "metadata": {},
   "outputs": [
    {
     "name": "stdout",
     "output_type": "stream",
     "text": [
      "Column: store_id\n",
      "Length: 13\n",
      "Value: STRMRT_STR_01\n",
      "----------------------------------------------------------------------\n",
      "Column: region\n",
      "Length: 7\n",
      "Value: Central\n",
      "----------------------------------------------------------------------\n",
      "Column: neighbourhood\n",
      "Length: 15\n",
      "Value: Near North Side\n",
      "----------------------------------------------------------------------\n",
      "Column: store_size\n",
      "Length: 6\n",
      "Value: Medium\n",
      "----------------------------------------------------------------------\n",
      "Column: parking_space\n",
      "Length: 12\n",
      "Value: Very Limited\n",
      "----------------------------------------------------------------------\n"
     ]
    }
   ],
   "source": [
    "# character limit for SQL\n",
    "\n",
    "object_cols = df.select_dtypes(include='object')\n",
    "\n",
    "# Find value with max length in each column\n",
    "max_length_values = {\n",
    "    col: object_cols[col].loc[object_cols[col].str.len().idxmax()]\n",
    "    for col in object_cols.columns\n",
    "}\n",
    "\n",
    "# Display results\n",
    "for col, val in max_length_values.items():\n",
    "    print(f\"Column: {col}\\nLength: {len(val)}\\nValue: {val}\\n{'-'*70}\")"
   ]
  }
 ],
 "metadata": {
  "kernelspec": {
   "display_name": "Python 3 (ipykernel)",
   "language": "python",
   "name": "python3"
  },
  "language_info": {
   "codemirror_mode": {
    "name": "ipython",
    "version": 3
   },
   "file_extension": ".py",
   "mimetype": "text/x-python",
   "name": "python",
   "nbconvert_exporter": "python",
   "pygments_lexer": "ipython3",
   "version": "3.12.6"
  }
 },
 "nbformat": 4,
 "nbformat_minor": 5
}
